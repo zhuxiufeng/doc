{
 "cells": [
  {
   "cell_type": "markdown",
   "source": [
    "# 设计概要"
   ],
   "metadata": {
    "collapsed": false
   }
  },
  {
   "cell_type": "markdown",
   "source": [
    "## 名词解释说明\n",
    "| 名词   | 解释说明                                   |\n",
    "|------|----------------------------------------|\n",
    "| 规则决策 | 规则引擎执行一次规则的筛选判断，选出当前时间点每个设备对应该执行哪个规则规则 |\n",
    "| 规则执行 | 经过规则决策出来的规则规则，下发控制指令到对应设备服务            |\n"
   ],
   "metadata": {
    "collapsed": false
   }
  },
  {
   "cell_type": "markdown",
   "source": [
    "## 功能说明\n",
    "设备只有当其为“自动模式”时,才允许执行规则引擎产生的控制指令,策略决策判定单位为设备本身.\n",
    "规则引擎的功能有:\n",
    "\n",
    "1. 设备定时策略执行\n",
    "    * 优先级固定为50\n",
    "    * 不同定时策略时间段不能重叠\n",
    "    * 会打断大于或等于50的联动策略\n",
    "2. 设备联动策略执行\n",
    "    * 优先级范围1-99\n",
    "    * 会打断小于自身优先级的策略\n",
    "3. 平台测的事件联动\n",
    "    * 优先级范围1-99\n",
    "    * 会打断小于自身优先级的策略\n",
    "4. 自动模式下手动控制\n",
    "    * 优先级为100\n",
    "    * 会打断小于100优先级的策略\n",
    "    * 执行固定时间5分钟"
   ],
   "metadata": {
    "collapsed": false
   }
  },
  {
   "cell_type": "markdown",
   "source": [
    "## 系统结构\n",
    "![system-overview](https://github.com/Zwuwen/picture-host/blob/master/work/rule_engine/systme_overview.png?raw=true)"
   ],
   "metadata": {
    "collapsed": false
   }
  },
  {
   "cell_type": "markdown",
   "source": [
    "## 模块分类\n",
    "![module](https://github.com/Zwuwen/picture-host/blob/master/work/rule_engine/moudles.png?raw=true)"
   ],
   "metadata": {
    "collapsed": false
   }
  },
  {
   "cell_type": "markdown",
   "source": [
    "## 模块结构\n",
    "![module-interactive](https://github.com/Zwuwen/picture-host/blob/master/work/rule_engine/mudule_interactive.png?raw=true)"
   ],
   "metadata": {
    "collapsed": false
   }
  },
  {
   "cell_type": "markdown",
   "source": [
    "## 接口\n",
    "### 添加规则\n",
    "### 更新规则\n",
    "### 删除规则\n",
    "### 查询规则列表\n",
    "### 查询规则详情\n",
    "### 启用策略\n",
    "### 停用策略\n",
    "### 规则统计\n",
    "### 外部事件联动\n",
    "### 查询设备知识"
   ],
   "metadata": {
    "collapsed": false
   }
  },
  {
   "cell_type": "markdown",
   "source": [
    "## 数据库表\n",
    "![db](https://github.com/Zwuwen/picture-host/blob/master/work/rule_engine/db.png?raw=true)"
   ],
   "metadata": {
    "collapsed": false
   }
  },
  {
   "cell_type": "markdown",
   "source": [
    "## 关键流程\n",
    "### 策略执行\n",
    "![rule-run](https://github.com/Zwuwen/picture-host/blob/master/work/rule_engine/rule_run.png?raw=true)"
   ],
   "metadata": {
    "collapsed": false
   }
  }
 ],
 "metadata": {
  "kernelspec": {
   "display_name": "Python 3",
   "language": "python",
   "name": "python3"
  },
  "language_info": {
   "codemirror_mode": {
    "name": "ipython",
    "version": 2
   },
   "file_extension": ".py",
   "mimetype": "text/x-python",
   "name": "python",
   "nbconvert_exporter": "python",
   "pygments_lexer": "ipython2",
   "version": "2.7.6"
  }
 },
 "nbformat": 4,
 "nbformat_minor": 0
}
